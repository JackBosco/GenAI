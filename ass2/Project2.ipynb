{
 "cells": [
  {
   "cell_type": "code",
   "execution_count": 16,
   "metadata": {},
   "outputs": [],
   "source": [
    "import torch, torchvision\n",
    "import torchvision.transforms as transforms"
   ]
  },
  {
   "cell_type": "markdown",
   "metadata": {},
   "source": [
    "# Project 2\n",
    "\n",
    "### Generative AI\n",
    "### Jack Bosco\n",
    "### Working with GANS\n",
    "\n",
    "---"
   ]
  },
  {
   "cell_type": "markdown",
   "metadata": {},
   "source": [
    "1. ### Dataset Preparation \n",
    "\n",
    "\t- Download and load the Fashion-MNIST dataset using `torchvision.datasets.FashionMNIST`\n",
    "\t- Normalize the images to have values between -1 and 1, as this range typically works well with the ReLU activation function used in the generator's layers.\n",
    "\t- Create DataLoader objects for the training dataset to iterate over batches."
   ]
  },
  {
   "cell_type": "code",
   "execution_count": 49,
   "metadata": {},
   "outputs": [],
   "source": [
    "# define the transforms to values between -1 and 1\n",
    "transform = transforms.Compose(\n",
    "\t[\n",
    "\t\ttransforms.ToTensor()\n",
    "\t\t, transforms.Normalize((.5), (.5), inplace=True) # normalize between -1 and 1\n",
    "  \t]\n",
    ")\n",
    "\n",
    "batchsize = 4\n",
    "\n",
    "# load the training dataset\n",
    "trainset = torchvision.datasets.FashionMNIST(root='./data', train=True, download=True, transform=transform)\n",
    "trainloader = torch.utils.data.DataLoader(trainset, batch_size=batchsize, shuffle=True, num_workers=2)\n",
    "\n",
    "testset = torchvision.datasets.FashionMNIST(root='./data', train=False, download=True, transform=transform)\n",
    "testloader = torch.utils.data.DataLoader(testset, batch_size=batchsize, shuffle=False, num_workers=2)\n",
    "\n",
    "# define the classes\n",
    "classes = ['T-shirt/top', 'Trouser', 'Pullover', 'Dress', 'Coat', 'Sandal', 'Shirt', 'Sneaker', 'Bag', 'Ankle boot']"
   ]
  },
  {
   "cell_type": "markdown",
   "metadata": {},
   "source": [
    "#### Visualize the data"
   ]
  },
  {
   "cell_type": "code",
   "execution_count": 70,
   "metadata": {},
   "outputs": [
    {
     "name": "stdout",
     "output_type": "stream",
     "text": [
      "torch.Size([4, 1, 28, 28]) torch.Size([4])\n",
      "tensor(-1.) tensor(1.)\n"
     ]
    },
    {
     "data": {
      "image/png": "[encoded data removed]",
      "text/plain": [
       "<Figure size 640x480 with 1 Axes>"
      ]
     },
     "metadata": {},
     "output_type": "display_data"
    },
    {
     "name": "stdout",
     "output_type": "stream",
     "text": [
      "|     Trouser     |     Sandal      |      Dress      |      Dress      |\n"
     ]
    }
   ],
   "source": [
    "# print some info about a sample from the data\n",
    "e = next(iter(trainloader))\n",
    "print(e[0].shape, e[1].shape)\n",
    "print(e[0].min(), e[0].max())\n",
    "\n",
    "# show some images\n",
    "import matplotlib.pyplot as plt\n",
    "import numpy as np\n",
    "def imshow(img):\n",
    "\timg = img / 2 + 0.5 # unnormalize\n",
    "\tnpimg = img.numpy()\n",
    "\tplt.imshow(np.transpose(npimg, (1, 2, 0)))\n",
    "\tplt.show()\n",
    "\n",
    "imshow(torchvision.utils.make_grid(e[0]))\n",
    "s = '|' + r'{:^17s}|' * batchsize\n",
    "print(s.format(*[classes[e[1][j]] for j in range(batchsize)]))"
   ]
  }
 ],
 "metadata": {
  "kernelspec": {
   "display_name": "Python 3",
   "language": "python",
   "name": "python3"
  },
  "language_info": {
   "codemirror_mode": {
    "name": "ipython",
    "version": 3
   },
   "file_extension": ".py",
   "mimetype": "text/x-python",
   "name": "python",
   "nbconvert_exporter": "python",
   "pygments_lexer": "ipython3",
   "version": "3.10.0"
  }
 },
 "nbformat": 4,
 "nbformat_minor": 2
}
